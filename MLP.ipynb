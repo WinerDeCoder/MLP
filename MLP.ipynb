{
  "nbformat": 4,
  "nbformat_minor": 0,
  "metadata": {
    "colab": {
      "provenance": [],
      "gpuType": "T4"
    },
    "kernelspec": {
      "name": "python3",
      "display_name": "Python 3"
    },
    "language_info": {
      "name": "python"
    },
    "accelerator": "GPU"
  },
  "cells": [
    {
      "cell_type": "code",
      "execution_count": 55,
      "metadata": {
        "id": "MXEwOoeuw6fe"
      },
      "outputs": [],
      "source": [
        "import pandas as pd\n",
        "\n",
        "train_set = pd.read_csv('/content/sample_data/mnist_train_small.csv')\n",
        "test_set = pd.read_csv('/content/sample_data/mnist_test.csv')"
      ]
    },
    {
      "cell_type": "code",
      "source": [
        "train_value = train_set.values\n",
        "train_value\n"
      ],
      "metadata": {
        "colab": {
          "base_uri": "https://localhost:8080/"
        },
        "id": "hVZCyPX3xdvq",
        "outputId": "20984030-c149-48f7-9a4e-5a502180ad01"
      },
      "execution_count": 56,
      "outputs": [
        {
          "output_type": "execute_result",
          "data": {
            "text/plain": [
              "array([[5, 0, 0, ..., 0, 0, 0],\n",
              "       [7, 0, 0, ..., 0, 0, 0],\n",
              "       [9, 0, 0, ..., 0, 0, 0],\n",
              "       ...,\n",
              "       [2, 0, 0, ..., 0, 0, 0],\n",
              "       [9, 0, 0, ..., 0, 0, 0],\n",
              "       [5, 0, 0, ..., 0, 0, 0]])"
            ]
          },
          "metadata": {},
          "execution_count": 56
        }
      ]
    },
    {
      "cell_type": "code",
      "source": [
        "test_value = test_set.values\n",
        "\n",
        "testing = torch.tensor(test_value)\n",
        "\n",
        "label_test = testing.T[0]\n",
        "test_set = testing.T[1:]\n",
        "\n",
        "test_set = test_set.T\n",
        "test_set_res = test_set.view(test_set.shape[0],28,28)\n",
        "print(test_set_res.shape)\n",
        "\n",
        "\n",
        "label_test = label_test.reshape(-1,1)\n",
        "label_test.shape"
      ],
      "metadata": {
        "colab": {
          "base_uri": "https://localhost:8080/"
        },
        "id": "Nh1RjEUlwafg",
        "outputId": "f753bdb4-3758-4ca2-8a3e-f525c7f3ad53"
      },
      "execution_count": 57,
      "outputs": [
        {
          "output_type": "stream",
          "name": "stdout",
          "text": [
            "torch.Size([9999, 28, 28])\n"
          ]
        },
        {
          "output_type": "execute_result",
          "data": {
            "text/plain": [
              "torch.Size([9999, 1])"
            ]
          },
          "metadata": {},
          "execution_count": 57
        }
      ]
    },
    {
      "cell_type": "code",
      "source": [
        "import torch\n",
        "from torch.utils.data import DataLoader\n",
        "\n",
        "training = torch.tensor(train_value)\n",
        "\n",
        "label = training.T[0]\n",
        "train_set = training.T[1:]\n",
        "\n"
      ],
      "metadata": {
        "id": "FkElIV11yDEN"
      },
      "execution_count": 58,
      "outputs": []
    },
    {
      "cell_type": "code",
      "source": [
        "print(train_set.shape)\n",
        "train_set = train_set.T\n",
        "train_set_res = train_set.view(19999,28,28)\n",
        "train_set_res.shape"
      ],
      "metadata": {
        "colab": {
          "base_uri": "https://localhost:8080/"
        },
        "id": "a6bi_JvoDSjJ",
        "outputId": "d2aacd2e-7c5b-49ae-a5bf-5fbc0cef3fd2"
      },
      "execution_count": 59,
      "outputs": [
        {
          "output_type": "stream",
          "name": "stdout",
          "text": [
            "torch.Size([784, 19999])\n"
          ]
        },
        {
          "output_type": "execute_result",
          "data": {
            "text/plain": [
              "torch.Size([19999, 28, 28])"
            ]
          },
          "metadata": {},
          "execution_count": 59
        }
      ]
    },
    {
      "cell_type": "code",
      "source": [
        "label = label.reshape(-1,1)\n",
        "label.shape"
      ],
      "metadata": {
        "colab": {
          "base_uri": "https://localhost:8080/"
        },
        "id": "QhwF7cN_zVGD",
        "outputId": "8184537f-2d1c-43c7-ce07-ef9037b2748c"
      },
      "execution_count": 60,
      "outputs": [
        {
          "output_type": "execute_result",
          "data": {
            "text/plain": [
              "torch.Size([19999, 1])"
            ]
          },
          "metadata": {},
          "execution_count": 60
        }
      ]
    },
    {
      "cell_type": "code",
      "source": [
        "join_dataset = torch.utils.data.TensorDataset(train_set_res,label)"
      ],
      "metadata": {
        "id": "2SCnJPtr1PAx"
      },
      "execution_count": 61,
      "outputs": []
    },
    {
      "cell_type": "code",
      "source": [
        "final_train = DataLoader(join_dataset,batch_size = 64,drop_last=True)"
      ],
      "metadata": {
        "id": "k8yE8UgF1fy4"
      },
      "execution_count": 62,
      "outputs": []
    },
    {
      "cell_type": "code",
      "source": [
        "example,label = next(iter(final_train))"
      ],
      "metadata": {
        "id": "qUafP2AECXa-"
      },
      "execution_count": 63,
      "outputs": []
    },
    {
      "cell_type": "code",
      "source": [
        "example.shape"
      ],
      "metadata": {
        "colab": {
          "base_uri": "https://localhost:8080/"
        },
        "id": "2xrbkGdnCobw",
        "outputId": "4f80a560-a2a2-411c-9c1e-ad706d2b0161"
      },
      "execution_count": 64,
      "outputs": [
        {
          "output_type": "execute_result",
          "data": {
            "text/plain": [
              "torch.Size([64, 28, 28])"
            ]
          },
          "metadata": {},
          "execution_count": 64
        }
      ]
    },
    {
      "cell_type": "code",
      "source": [
        "label.shape"
      ],
      "metadata": {
        "colab": {
          "base_uri": "https://localhost:8080/"
        },
        "id": "QVi_vRNPPv-Q",
        "outputId": "46a04b1a-14ca-473a-b79a-d86afe0f184d"
      },
      "execution_count": 65,
      "outputs": [
        {
          "output_type": "execute_result",
          "data": {
            "text/plain": [
              "torch.Size([64, 1])"
            ]
          },
          "metadata": {},
          "execution_count": 65
        }
      ]
    },
    {
      "cell_type": "code",
      "source": [
        "import matplotlib.pyplot as plt\n",
        "from itertools import islice\n"
      ],
      "metadata": {
        "id": "Txn7-W-pFg6s"
      },
      "execution_count": 66,
      "outputs": []
    },
    {
      "cell_type": "code",
      "source": [
        "print(label.shape)"
      ],
      "metadata": {
        "colab": {
          "base_uri": "https://localhost:8080/"
        },
        "id": "tiVKpMhgS03M",
        "outputId": "0bb41867-3278-48c5-fd94-f8e85335db3b"
      },
      "execution_count": 67,
      "outputs": [
        {
          "output_type": "stream",
          "name": "stdout",
          "text": [
            "torch.Size([64, 1])\n"
          ]
        }
      ]
    },
    {
      "cell_type": "code",
      "source": [
        "import torch.nn.functional as F\n",
        "\n",
        "one_hot_y = F.one_hot(label, num_classes=10)\n",
        "\n",
        "one_hot_y = one_hot_y.squeeze(1)\n",
        "print(one_hot_y.shape)"
      ],
      "metadata": {
        "colab": {
          "base_uri": "https://localhost:8080/"
        },
        "id": "KRWgX2xBY9S2",
        "outputId": "48e6c55e-1984-4cba-84c6-5a64cf1c6baa"
      },
      "execution_count": 68,
      "outputs": [
        {
          "output_type": "stream",
          "name": "stdout",
          "text": [
            "torch.Size([64, 10])\n"
          ]
        }
      ]
    },
    {
      "cell_type": "code",
      "source": [
        "fig, axes = plt.subplots(4, 8, figsize=(10, 10))\n",
        "\n",
        "for i in range(64):\n",
        "    ax = axes[i // 32, i % 32]\n",
        "    ax.imshow(example[i], cmap='gray')\n",
        "    ax.axis('off')\n",
        "\n",
        "plt.show()"
      ],
      "metadata": {
        "colab": {
          "base_uri": "https://localhost:8080/",
          "height": 885
        },
        "id": "5o8i5MXXFKsG",
        "outputId": "3b2d29bd-cbee-46d3-b31a-59d85a223bea"
      },
      "execution_count": 69,
      "outputs": [
        {
          "output_type": "error",
          "ename": "IndexError",
          "evalue": "ignored",
          "traceback": [
            "\u001b[0;31m---------------------------------------------------------------------------\u001b[0m",
            "\u001b[0;31mIndexError\u001b[0m                                Traceback (most recent call last)",
            "\u001b[0;32m<ipython-input-69-d5a2a12a9424>\u001b[0m in \u001b[0;36m<cell line: 3>\u001b[0;34m()\u001b[0m\n\u001b[1;32m      2\u001b[0m \u001b[0;34m\u001b[0m\u001b[0m\n\u001b[1;32m      3\u001b[0m \u001b[0;32mfor\u001b[0m \u001b[0mi\u001b[0m \u001b[0;32min\u001b[0m \u001b[0mrange\u001b[0m\u001b[0;34m(\u001b[0m\u001b[0;36m64\u001b[0m\u001b[0;34m)\u001b[0m\u001b[0;34m:\u001b[0m\u001b[0;34m\u001b[0m\u001b[0;34m\u001b[0m\u001b[0m\n\u001b[0;32m----> 4\u001b[0;31m     \u001b[0max\u001b[0m \u001b[0;34m=\u001b[0m \u001b[0maxes\u001b[0m\u001b[0;34m[\u001b[0m\u001b[0mi\u001b[0m \u001b[0;34m//\u001b[0m \u001b[0;36m32\u001b[0m\u001b[0;34m,\u001b[0m \u001b[0mi\u001b[0m \u001b[0;34m%\u001b[0m \u001b[0;36m32\u001b[0m\u001b[0;34m]\u001b[0m\u001b[0;34m\u001b[0m\u001b[0;34m\u001b[0m\u001b[0m\n\u001b[0m\u001b[1;32m      5\u001b[0m     \u001b[0max\u001b[0m\u001b[0;34m.\u001b[0m\u001b[0mimshow\u001b[0m\u001b[0;34m(\u001b[0m\u001b[0mexample\u001b[0m\u001b[0;34m[\u001b[0m\u001b[0mi\u001b[0m\u001b[0;34m]\u001b[0m\u001b[0;34m,\u001b[0m \u001b[0mcmap\u001b[0m\u001b[0;34m=\u001b[0m\u001b[0;34m'gray'\u001b[0m\u001b[0;34m)\u001b[0m\u001b[0;34m\u001b[0m\u001b[0;34m\u001b[0m\u001b[0m\n\u001b[1;32m      6\u001b[0m     \u001b[0max\u001b[0m\u001b[0;34m.\u001b[0m\u001b[0maxis\u001b[0m\u001b[0;34m(\u001b[0m\u001b[0;34m'off'\u001b[0m\u001b[0;34m)\u001b[0m\u001b[0;34m\u001b[0m\u001b[0;34m\u001b[0m\u001b[0m\n",
            "\u001b[0;31mIndexError\u001b[0m: index 8 is out of bounds for axis 1 with size 8"
          ]
        },
        {
          "output_type": "display_data",
          "data": {
            "text/plain": [
              "<Figure size 1000x1000 with 32 Axes>"
            ],
            "image/png": "[encoded data removed]"
          },
          "metadata": {}
        }
      ]
    },
    {
      "cell_type": "code",
      "source": [
        "import torch.nn as nn"
      ],
      "metadata": {
        "id": "fw-58cHFIq6i"
      },
      "execution_count": 70,
      "outputs": []
    },
    {
      "cell_type": "code",
      "source": [
        "class Model(nn.Module):\n",
        "  def __init__(self, input_size, hidden_size, output_size):\n",
        "    super().__init__()\n",
        "    self.layer1 = nn.Linear(input_size, hidden_size)\n",
        "    self.layer2 = nn.Linear(hidden_size, output_size)\n",
        "  def forward(self, x):\n",
        "    x = self.layer1(x)\n",
        "    x = nn.Sigmoid()(x)\n",
        "    x = self.layer2(x)\n",
        "    x = nn.Softmax(dim=1)(x)\n",
        "    return x"
      ],
      "metadata": {
        "id": "0vgqWomiH2p9"
      },
      "execution_count": 71,
      "outputs": []
    },
    {
      "cell_type": "code",
      "source": [
        "input_size = 784\n",
        "hidden_size = 100\n",
        "output_size = 10"
      ],
      "metadata": {
        "id": "JubQZ0KNJU2f"
      },
      "execution_count": 72,
      "outputs": []
    },
    {
      "cell_type": "code",
      "source": [
        "model = Model(input_size, hidden_size, output_size)\n"
      ],
      "metadata": {
        "id": "O0zPXiutJU3i"
      },
      "execution_count": 73,
      "outputs": []
    },
    {
      "cell_type": "code",
      "source": [
        "loss_fn = nn.CrossEntropyLoss()\n",
        "optimizer = torch.optim.Adam(model.parameters(), lr=0.0002)"
      ],
      "metadata": {
        "id": "NwFhoNdGKHwT"
      },
      "execution_count": 74,
      "outputs": []
    },
    {
      "cell_type": "code",
      "source": [
        "num_epoch = 40\n",
        "loss_hist = [0] * num_epoch\n",
        "accuracy_hist = [0] * num_epoch\n",
        "for epoch in range(num_epoch):\n",
        "  for example,label in final_train:\n",
        "    x = example.view(64,784)\n",
        "    pred = model(x.float())\n",
        "    one_hot_y = F.one_hot(label, num_classes=10)\n",
        "    one_hot_y = one_hot_y.squeeze(1)\n",
        "    loss = loss_fn(pred.float(),one_hot_y.float())\n",
        "    loss.backward()\n",
        "    optimizer.step()\n",
        "    optimizer.zero_grad()\n",
        "    loss_hist[epoch] += loss.item()*label.size(0)\n",
        "    is_correct = sum((torch.argmax(pred, dim=1) == label.T.squeeze()).float())\n",
        "    accuracy_hist[epoch] += is_correct\n",
        "  loss_hist[epoch] /= len(final_train.dataset)\n",
        "  accuracy_hist[epoch] /= len(final_train.dataset)\n",
        "  print(f'Epoch {epoch} Loss {loss_hist[epoch]:.4f} Acc {accuracy_hist[epoch]:.4f}')\n",
        "\n",
        "\n"
      ],
      "metadata": {
        "colab": {
          "base_uri": "https://localhost:8080/"
        },
        "id": "AuKNjOulKHxy",
        "outputId": "e883ef34-041b-47a3-e743-26ce79ab0939"
      },
      "execution_count": 75,
      "outputs": [
        {
          "output_type": "stream",
          "name": "stdout",
          "text": [
            "Epoch 0 Loss 2.0556 Acc 0.6089\n",
            "Epoch 1 Loss 1.7861 Acc 0.7926\n",
            "Epoch 2 Loss 1.6774 Acc 0.8822\n",
            "Epoch 3 Loss 1.6209 Acc 0.9052\n",
            "Epoch 4 Loss 1.5951 Acc 0.9149\n",
            "Epoch 5 Loss 1.5806 Acc 0.9186\n",
            "Epoch 6 Loss 1.5691 Acc 0.9236\n",
            "Epoch 7 Loss 1.5612 Acc 0.9271\n",
            "Epoch 8 Loss 1.5551 Acc 0.9321\n",
            "Epoch 9 Loss 1.5509 Acc 0.9331\n",
            "Epoch 10 Loss 1.5446 Acc 0.9364\n",
            "Epoch 11 Loss 1.5405 Acc 0.9391\n",
            "Epoch 12 Loss 1.5377 Acc 0.9411\n",
            "Epoch 13 Loss 1.5354 Acc 0.9431\n",
            "Epoch 14 Loss 1.5318 Acc 0.9445\n",
            "Epoch 15 Loss 1.5305 Acc 0.9454\n",
            "Epoch 16 Loss 1.5276 Acc 0.9480\n",
            "Epoch 17 Loss 1.5258 Acc 0.9482\n",
            "Epoch 18 Loss 1.5232 Acc 0.9506\n",
            "Epoch 19 Loss 1.5220 Acc 0.9502\n",
            "Epoch 20 Loss 1.5217 Acc 0.9524\n",
            "Epoch 21 Loss 1.5196 Acc 0.9531\n",
            "Epoch 22 Loss 1.5174 Acc 0.9542\n",
            "Epoch 23 Loss 1.5170 Acc 0.9555\n",
            "Epoch 24 Loss 1.5139 Acc 0.9559\n",
            "Epoch 25 Loss 1.5134 Acc 0.9575\n",
            "Epoch 26 Loss 1.5125 Acc 0.9583\n",
            "Epoch 27 Loss 1.5118 Acc 0.9585\n",
            "Epoch 28 Loss 1.5102 Acc 0.9595\n",
            "Epoch 29 Loss 1.5091 Acc 0.9608\n",
            "Epoch 30 Loss 1.5077 Acc 0.9614\n",
            "Epoch 31 Loss 1.5070 Acc 0.9613\n",
            "Epoch 32 Loss 1.5058 Acc 0.9635\n",
            "Epoch 33 Loss 1.5055 Acc 0.9633\n",
            "Epoch 34 Loss 1.5058 Acc 0.9623\n",
            "Epoch 35 Loss 1.5054 Acc 0.9635\n",
            "Epoch 36 Loss 1.5035 Acc 0.9652\n",
            "Epoch 37 Loss 1.5033 Acc 0.9650\n",
            "Epoch 38 Loss 1.5021 Acc 0.9658\n",
            "Epoch 39 Loss 1.5018 Acc 0.9659\n"
          ]
        }
      ]
    },
    {
      "cell_type": "code",
      "source": [
        "fig = plt.figure(figsize=(12, 5))\n",
        "ax = fig.add_subplot(1, 2, 1)\n",
        "\n",
        "\n",
        "ax.plot(loss_hist, lw=3)\n",
        "ax.set_title('Training loss', size=15)\n",
        "ax.set_xlabel('Epoch', size=15)\n",
        "ax.tick_params(axis='both', which='major', labelsize=15)\n",
        "ax = fig.add_subplot(1, 2, 2)\n",
        "ax.plot(accuracy_hist, lw=3)\n",
        "ax.set_title('Training accuracy', size=15)\n",
        "ax.set_xlabel('Epoch', size=15)\n",
        "ax.tick_params(axis='both', which='major', labelsize=15)\n",
        "plt.show()"
      ],
      "metadata": {
        "colab": {
          "base_uri": "https://localhost:8080/",
          "height": 353
        },
        "id": "uzpknhZJQWBm",
        "outputId": "4080db6c-ec74-4e5b-fcd2-c9ca49c0f465"
      },
      "execution_count": 79,
      "outputs": [
        {
          "output_type": "display_data",
          "data": {
            "text/plain": [
              "<Figure size 1200x500 with 2 Axes>"
            ],
            "image/png": "[encoded data removed]"
          },
          "metadata": {}
        }
      ]
    },
    {
      "cell_type": "code",
      "source": [
        "y_pred_test = model(test_set_res.view(test_set_res.shape[0],784).float())"
      ],
      "metadata": {
        "id": "xbvYpvFVwUFR"
      },
      "execution_count": 80,
      "outputs": []
    },
    {
      "cell_type": "code",
      "source": [
        "pred_label_test = torch.argmax(y_pred_test,dim =1)\n",
        "pred_label_test.shape\n",
        "pred_label_test.reshape(-1,1)\n",
        "accu = torch.sum(pred_label_test.T == label_test.T).float()\n",
        "accu /= test_set_res.shape[0]\n",
        "\n",
        "print(\"Test_accuracy: \",accu.item())"
      ],
      "metadata": {
        "colab": {
          "base_uri": "https://localhost:8080/"
        },
        "id": "8_doJnHDyKAF",
        "outputId": "338ac30d-4d02-40ff-eea2-6dda7988a438"
      },
      "execution_count": 81,
      "outputs": [
        {
          "output_type": "stream",
          "name": "stdout",
          "text": [
            "Test_accuracy:  0.9427942633628845\n"
          ]
        }
      ]
    },
    {
      "cell_type": "code",
      "source": [
        "path = 'mnist_classification.pt'\n",
        "torch.save(model, path)"
      ],
      "metadata": {
        "id": "pG_qbMs70rhB"
      },
      "execution_count": 83,
      "outputs": []
    },
    {
      "cell_type": "code",
      "source": [
        "model_new = torch.load(path)\n",
        "\n",
        "model_new.eval()"
      ],
      "metadata": {
        "colab": {
          "base_uri": "https://localhost:8080/"
        },
        "id": "aoE4lUyK06B5",
        "outputId": "c22f2797-08e6-4e6f-c15d-6491b4ab38a5"
      },
      "execution_count": 84,
      "outputs": [
        {
          "output_type": "execute_result",
          "data": {
            "text/plain": [
              "Model(\n",
              "  (layer1): Linear(in_features=784, out_features=100, bias=True)\n",
              "  (layer2): Linear(in_features=100, out_features=10, bias=True)\n",
              ")"
            ]
          },
          "metadata": {},
          "execution_count": 84
        }
      ]
    },
    {
      "cell_type": "code",
      "source": [
        "path = 'mnist_classification_parem.pt'\n",
        "torch.save(model.state_dict(), path)"
      ],
      "metadata": {
        "id": "HzI-_i2D1Npq"
      },
      "execution_count": 91,
      "outputs": []
    },
    {
      "cell_type": "code",
      "source": [
        "model_new = Model(input_size, hidden_size, output_size)\n",
        "model_new.load_state_dict(torch.load(path))"
      ],
      "metadata": {
        "colab": {
          "base_uri": "https://localhost:8080/"
        },
        "id": "1Ip4h2hb1xEe",
        "outputId": "6311de3c-bc0f-4462-f35a-8c82f95dd4f1"
      },
      "execution_count": 92,
      "outputs": [
        {
          "output_type": "execute_result",
          "data": {
            "text/plain": [
              "<All keys matched successfully>"
            ]
          },
          "metadata": {},
          "execution_count": 92
        }
      ]
    }
  ]
}